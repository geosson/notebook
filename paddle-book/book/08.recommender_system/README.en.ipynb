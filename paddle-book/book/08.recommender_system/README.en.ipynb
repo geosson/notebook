{
 "cells": [
  {
   "cell_type": "markdown",
   "metadata": {},
   "source": [
    "# Personalized Recommendation\n",
    "\n",
    "The source code of this tutorial is in [book/recommender_system](https://github.com/PaddlePaddle/book/tree/develop/recommender_system).\n",
    "\n",
    "For instructions on getting started with PaddlePaddle, see [PaddlePaddle installation guide](https://github.com/PaddlePaddle/Paddle/blob/develop/doc/getstarted/build_and_install/docker_install_en.rst).\n",
    "\n",
    "## Background\n",
    "\n",
    "With the fast growth of e-commerce, online videos, and online reading business, users have to rely on recommender systems to avoid manually browsing tremendous volume of choices.  Recommender systems understand users' interest by mining user behavior and other properties of users and products.\n",
    "\n",
    "Some well know approaches include:\n",
    "\n",
    "- User behavior-based approach.  A well-known method is collaborative filtering. The underlying assumption is that if a person A has the same opinion as a person B on an issue, A is more likely to have B's opinion on a different issue than that of a randomly chosen person.\n",
    "\n",
    "- Content-based recommendation[[1](#reference)]. This approach infers feature vectors that represent products from their descriptions.  It also infers feature vectors that represent users' interests.  Then it measures the relevance of users and products by some distances between these feature vectors.\n",
    "\n",
    "- Hybrid approach[[2](#reference)]: This approach uses the content-based information to help address the cold start problem[[6](#reference)] in behavior-based approach.\n",
    "\n",
    "Among these options, collaborative filtering might be the most studied one.  Some of its variants include user-based[[3](#reference)], item-based [[4](#reference)], social network based[[5](#reference)], and model-based.\n",
    "\n",
    "This tutorial explains a deep learning based approach and how to implement it using PaddlePaddle.  We will train a model using a dataset that includes user information, movie information, and ratings.  Once we train the model, we will be able to get a predicted rating given a pair of user and movie IDs.\n",
    "\n",
    "## Model Overview\n",
    "\n",
    "To know more about deep learning based recommendation, let us start from going over the Youtube recommender system[[7](#参考文献)] before introducing our hybrid model.\n",
    "\n",
    "### YouTube's Deep Learning Recommendation Model\n",
    "\n",
    "YouTube is a video-sharing Web site with one of the largest user base in the world.  Its recommender system serves more than a billion users.  This system is composed of two major parts: candidate generation and ranking.  The former selects few hundreds of candidates from millions of videos, and the latter ranks and outputs the top 10.\n",
    "\n",
    "<p align=\"center\" style=\"text-align:center\">\n",
    "<img src=\"image/YouTube_Overview.en.png\" width=\"70%\" ><br/>\n",
    "Figure 1. YouTube recommender system overview.\n",
    "</p>\n",
    "\n",
    "#### Candidate Generation Network\n",
    "\n",
    "Youtube models candidate generation as a multiclass classification problem with a huge number of classes equal to the number of videos.  The architecture of the model is as follows:\n",
    "\n",
    "<p align=\"center\" style=\"text-align:center\">\n",
    "<img src=\"image/Deep_candidate_generation_model_architecture.en.png\" width=\"70%\" ><br/>\n",
    "Figure. Deep candidate geeration model.\n",
    "</p>\n",
    "\n",
    "The first stage of this model maps watching history and search queries into fixed-length representative features.  Then, an MLP (multi-layer perceptron, as described in the [Recognize Digits](https://github.com/PaddlePaddle/book/blob/develop/recognize_digits/README.md) tutorial) takes the concatenation of all representative vectors.  The output of the MLP represents the user' *intrinsic interests*.  At training time, it is used together with a softmax output layer for minimizing the classification error.   At serving time, it is used to compute the relevance of the user with all movies.\n",
    "\n",
    "For a user $U$, the predicted watching probability of video $i$ is\n",
    "\n",
    "$$P(\\omega=i|u)=\\frac{e^{v_{i}u}}{\\sum_{j \\in V}e^{v_{j}u}}$$\n",
    "\n",
    "where $u$ is the representative vector of user $U$, $V$ is the corpus of all videos, $v_i$ is the representative vector of the $i$-th video. $u$ and $v_i$ are vectors of the same length, so we can compute their dot product using a fully connected layer.\n",
    "\n",
    "This model could have a performance issue as the softmax output covers millions of classification labels.  To optimize performance, at the training time, the authors down-sample negative samples, so the actual number of classes is reduced to thousands.  At serving time, the authors ignore the normalization of the softmax outputs, because the results are just for ranking.\n",
    "\n",
    "#### Ranking Network\n",
    "\n",
    "The architecture of the ranking network is similar to that of the candidate generation network.  Similar to ranking models widely used in online advertising, it uses rich features like video ID, last watching time, etc.  The output layer of the ranking network is a weighted logistic regression, which rates all candidate videos.\n",
    "\n",
    "### Hybrid Model\n",
    "\n",
    "In the section, let us introduce our movie recommendation system.\n",
    "\n",
    "In our network, the input includes features of users and movies.  The user feature includes four properties: user ID, gender, occupation, and age.  Movie features include their IDs, genres, and titles.\n",
    "\n",
    "We use fully-connected layers to map user features into representative feature vectors and concatenate them.  The process of movie features is similar, except that for movie titles -- we feed titles into a text convolution network as described in the [sentiment analysis tutorial](https://github.com/PaddlePaddle/book/blob/develop/understand_sentiment/README.md)）to get a fixed-length representative feature vector.\n",
    "\n",
    "Given the feature vectors of users and movies, we compute the relevance using cosine similarity.  We minimize the squared error at training time.\n",
    "\n",
    "<p align=\"center\" style=\"text-align:center\">\n",
    "\n",
    "<img src=\"image/rec_regression_network_en.png\" width=\"90%\" ><br/>\n",
    "Figure 3. A hybrid recommendation model.\n",
    "</p>\n",
    "\n",
    "## Dataset\n",
    "\n",
    "We use the [MovieLens ml-1m](http://files.grouplens.org/datasets/movielens/ml-1m.zip) to train our model.  This dataset includes 10,000 ratings of 4,000 movies from 6,000 users to 4,000 movies.  Each rate is in the range of 1~5.  Thanks to GroupLens Research for collecting, processing and publishing the dataset.\n",
    "\n",
    "`paddle.v2.datasets` package encapsulates multiple public datasets, including `cifar`, `imdb`, `mnist`, `moivelens` and `wmt14`, etc. There's no need for us to manually download and preprocess `MovieLens` dataset.\n",
    "\n",
    "The raw `MoiveLens` contains movie ratings, relevant features from both movies and users.\n",
    "For instance, one movie's feature could be:"
   ]
  },
  {
   "cell_type": "code",
   "execution_count": null,
   "metadata": {},
   "outputs": [],
   "source": [
    "import paddle.v2 as paddle\n",
    "movie_info = paddle.dataset.movielens.movie_info()\n",
    "print movie_info.values()[0]"
   ]
  },
  {
   "cell_type": "code",
   "execution_count": null,
   "metadata": {
    "attributes": {
     "classes": [
      "text"
     ],
     "id": ""
    }
   },
   "outputs": [],
   "source": [
    "<MovieInfo id(1), title(Toy Story), categories(['Animation', \"Children's\", 'Comedy'])>"
   ]
  },
  {
   "cell_type": "markdown",
   "metadata": {},
   "source": [
    "One user's feature could be:"
   ]
  },
  {
   "cell_type": "code",
   "execution_count": null,
   "metadata": {},
   "outputs": [],
   "source": [
    "user_info = paddle.dataset.movielens.user_info()\n",
    "print user_info.values()[0]"
   ]
  },
  {
   "cell_type": "code",
   "execution_count": null,
   "metadata": {
    "attributes": {
     "classes": [
      "text"
     ],
     "id": ""
    }
   },
   "outputs": [],
   "source": [
    "<UserInfo id(1), gender(F), age(1), job(10)>"
   ]
  },
  {
   "cell_type": "markdown",
   "metadata": {},
   "source": [
    "In this dateset, the distribution of age is shown as follows:"
   ]
  },
  {
   "cell_type": "code",
   "execution_count": null,
   "metadata": {
    "attributes": {
     "classes": [
      "text"
     ],
     "id": ""
    }
   },
   "outputs": [],
   "source": [
    "1: \"Under 18\"\n",
    "18: \"18-24\"\n",
    "25: \"25-34\"\n",
    "35: \"35-44\"\n",
    "45: \"45-49\"\n",
    "50: \"50-55\"\n",
    "56: \"56+\""
   ]
  },
  {
   "cell_type": "markdown",
   "metadata": {},
   "source": [
    "User's occupation is selected from the following options:"
   ]
  },
  {
   "cell_type": "code",
   "execution_count": null,
   "metadata": {
    "attributes": {
     "classes": [
      "text"
     ],
     "id": ""
    }
   },
   "outputs": [],
   "source": [
    "0: \"other\" or not specified\n",
    "1: \"academic/educator\"\n",
    "2: \"artist\"\n",
    "3: \"clerical/admin\"\n",
    "4: \"college/grad student\"\n",
    "5: \"customer service\"\n",
    "6: \"doctor/health care\"\n",
    "7: \"executive/managerial\"\n",
    "8: \"farmer\"\n",
    "9: \"homemaker\"\n",
    "10: \"K-12 student\"\n",
    "11: \"lawyer\"\n",
    "12: \"programmer\"\n",
    "13: \"retired\"\n",
    "14: \"sales/marketing\"\n",
    "15: \"scientist\"\n",
    "16: \"self-employed\"\n",
    "17: \"technician/engineer\"\n",
    "18: \"tradesman/craftsman\"\n",
    "19: \"unemployed\"\n",
    "20: \"writer\""
   ]
  },
  {
   "cell_type": "markdown",
   "metadata": {},
   "source": [
    "Each record consists of three main components: user features, movie features and movie ratings.\n",
    "Likewise, as a simple example, consider the following:"
   ]
  },
  {
   "cell_type": "code",
   "execution_count": null,
   "metadata": {},
   "outputs": [],
   "source": [
    "train_set_creator = paddle.dataset.movielens.train()\n",
    "train_sample = next(train_set_creator())\n",
    "uid = train_sample[0]\n",
    "mov_id = train_sample[len(user_info[uid].value())]\n",
    "print \"User %s rates Movie %s with Score %s\"%(user_info[uid], movie_info[mov_id], train_sample[-1])"
   ]
  },
  {
   "cell_type": "code",
   "execution_count": null,
   "metadata": {
    "attributes": {
     "classes": [
      "text"
     ],
     "id": ""
    }
   },
   "outputs": [],
   "source": [
    "User <UserInfo id(1), gender(F), age(1), job(10)> rates Movie <MovieInfo id(1193), title(One Flew Over the Cuckoo's Nest), categories(['Drama'])> with Score [5.0]"
   ]
  },
  {
   "cell_type": "markdown",
   "metadata": {},
   "source": [
    "The output shows that user 1 gave movie `1193` a rating of 5.\n",
    "\n",
    "After issuing a command `python train.py`, training will start immediately. The details will be unpacked by the following sessions to see how it works.\n",
    "\n",
    "## Model Architecture\n",
    "\n",
    "### Initialize PaddlePaddle\n",
    "\n",
    "First, we must import and initialize PaddlePaddle (enable/disable GPU, set the number of trainers, etc)."
   ]
  },
  {
   "cell_type": "code",
   "execution_count": null,
   "metadata": {},
   "outputs": [],
   "source": [
    "%matplotlib inline\n",
    "\n",
    "import matplotlib.pyplot as plt\n",
    "from IPython import display\n",
    "import cPickle\n",
    "\n",
    "import paddle.v2 as paddle\n",
    "paddle.init(use_gpu=False)"
   ]
  },
  {
   "cell_type": "markdown",
   "metadata": {},
   "source": [
    "### Model Configuration"
   ]
  },
  {
   "cell_type": "code",
   "execution_count": null,
   "metadata": {},
   "outputs": [],
   "source": [
    "uid = paddle.layer.data(\n",
    "        name='user_id',\n",
    "        type=paddle.data_type.integer_value(\n",
    "            paddle.dataset.movielens.max_user_id() + 1))\n",
    "usr_emb = paddle.layer.embedding(input=uid, size=32)\n",
    "\n",
    "usr_gender_id = paddle.layer.data(\n",
    "        name='gender_id', type=paddle.data_type.integer_value(2))\n",
    "usr_gender_emb = paddle.layer.embedding(input=usr_gender_id, size=16)\n",
    "\n",
    "usr_age_id = paddle.layer.data(\n",
    "        name='age_id',\n",
    "        type=paddle.data_type.integer_value(\n",
    "            len(paddle.dataset.movielens.age_table)))\n",
    "usr_age_emb = paddle.layer.embedding(input=usr_age_id, size=16)\n",
    "\n",
    "usr_job_id = paddle.layer.data(\n",
    "        name='job_id',\n",
    "        type=paddle.data_type.integer_value(paddle.dataset.movielens.max_job_id(\n",
    "        ) + 1))\n",
    "usr_job_emb = paddle.layer.embedding(input=usr_job_id, size=16)"
   ]
  },
  {
   "cell_type": "markdown",
   "metadata": {},
   "source": [
    "As shown in the above code, the input is four dimension integers for each user, that is,  `user_id`,`gender_id`, `age_id` and `job_id`. In order to deal with these features conveniently, we use the language model in NLP to transform these discrete values into embedding vaules `usr_emb`, `usr_gender_emb`, `usr_age_emb` and `usr_job_emb`."
   ]
  },
  {
   "cell_type": "code",
   "execution_count": null,
   "metadata": {},
   "outputs": [],
   "source": [
    "usr_combined_features = paddle.layer.fc(\n",
    "        input=[usr_emb, usr_gender_emb, usr_age_emb, usr_job_emb],\n",
    "        size=200,\n",
    "        act=paddle.activation.Tanh())"
   ]
  },
  {
   "cell_type": "markdown",
   "metadata": {},
   "source": [
    "Then, employing user features as input, directly connecting to a fully-connected layer, which is used to reduce dimension to 200.\n",
    "\n",
    "Furthermore, we do a similar transformation for each movie feature. The model configuration is:"
   ]
  },
  {
   "cell_type": "code",
   "execution_count": null,
   "metadata": {},
   "outputs": [],
   "source": [
    "mov_id = paddle.layer.data(\n",
    "    name='movie_id',\n",
    "    type=paddle.data_type.integer_value(\n",
    "        paddle.dataset.movielens.max_movie_id() + 1))\n",
    "mov_emb = paddle.layer.embedding(input=mov_id, size=32)\n",
    "\n",
    "mov_categories = paddle.layer.data(\n",
    "    name='category_id',\n",
    "    type=paddle.data_type.sparse_binary_vector(\n",
    "        len(paddle.dataset.movielens.movie_categories())))\n",
    "\n",
    "mov_categories_hidden = paddle.layer.fc(input=mov_categories, size=32)\n",
    "\n",
    "movie_title_dict = paddle.dataset.movielens.get_movie_title_dict()\n",
    "mov_title_id = paddle.layer.data(\n",
    "    name='movie_title',\n",
    "    type=paddle.data_type.integer_value_sequence(len(movie_title_dict)))\n",
    "mov_title_emb = paddle.layer.embedding(input=mov_title_id, size=32)\n",
    "mov_title_conv = paddle.networks.sequence_conv_pool(\n",
    "    input=mov_title_emb, hidden_size=32, context_len=3)\n",
    "\n",
    "mov_combined_features = paddle.layer.fc(\n",
    "    input=[mov_emb, mov_categories_hidden, mov_title_conv],\n",
    "    size=200,\n",
    "    act=paddle.activation.Tanh())"
   ]
  },
  {
   "cell_type": "markdown",
   "metadata": {},
   "source": [
    "Movie title, a sequence of words represented by an integer word index sequence, will be feed into a `sequence_conv_pool` layer, which will apply convolution and pooling on time dimension. Because pooling is done on time dimension, the output will be a fixed-length vector regardless the length of the input sequence.\n",
    "\n",
    "Finally, we can use cosine similarity to calculate the similarity between user characteristics and movie features."
   ]
  },
  {
   "cell_type": "code",
   "execution_count": null,
   "metadata": {},
   "outputs": [],
   "source": [
    "inference = paddle.layer.cos_sim(a=usr_combined_features, b=mov_combined_features, size=1, scale=5)\n",
    "cost = paddle.layer.mse_cost(\n",
    "        input=inference,\n",
    "        label=paddle.layer.data(\n",
    "        name='score', type=paddle.data_type.dense_vector(1)))"
   ]
  },
  {
   "cell_type": "markdown",
   "metadata": {},
   "source": [
    "## Model Training\n",
    "\n",
    "### Define Parameters\n",
    "\n",
    "First, we define the model parameters according to the previous model configuration `cost`."
   ]
  },
  {
   "cell_type": "code",
   "execution_count": null,
   "metadata": {},
   "outputs": [],
   "source": [
    "# Create parameters\n",
    "parameters = paddle.parameters.create(cost)"
   ]
  },
  {
   "cell_type": "markdown",
   "metadata": {},
   "source": [
    "### Create Trainer\n",
    "\n",
    "Before jumping into creating a training module, algorithm setting is also necessary. Here we specified Adam optimization algorithm via `paddle.optimizer`."
   ]
  },
  {
   "cell_type": "code",
   "execution_count": null,
   "metadata": {},
   "outputs": [],
   "source": [
    "trainer = paddle.trainer.SGD(cost=cost, parameters=parameters,\n",
    "                             update_equation=paddle.optimizer.Adam(learning_rate=1e-4))"
   ]
  },
  {
   "cell_type": "code",
   "execution_count": null,
   "metadata": {
    "attributes": {
     "classes": [
      "text"
     ],
     "id": ""
    }
   },
   "outputs": [],
   "source": [
    "[INFO 2017-03-06 17:12:13,378 networks.py:1472] The input order is [user_id, gender_id, age_id, job_id, movie_id, category_id, movie_title, score]\n",
    "[INFO 2017-03-06 17:12:13,379 networks.py:1478] The output order is [__mse_cost_0__]"
   ]
  },
  {
   "cell_type": "markdown",
   "metadata": {},
   "source": [
    "### Training\n",
    "\n",
    "`paddle.dataset.movielens.train` will yield records during each pass, after shuffling, a batch input is generated for training."
   ]
  },
  {
   "cell_type": "code",
   "execution_count": null,
   "metadata": {},
   "outputs": [],
   "source": [
    "reader=paddle.batch(\n",
    "    paddle.reader.shuffle(\n",
    "        paddle.dataset.movielens.train(), buf_size=8192),\n",
    "        batch_size=256)"
   ]
  },
  {
   "cell_type": "markdown",
   "metadata": {},
   "source": [
    "`feeding` is devoted to specifying the correspondence between each yield record and `paddle.layer.data`. For instance, the first column of data generated by `movielens.train` corresponds to `user_id` feature."
   ]
  },
  {
   "cell_type": "code",
   "execution_count": null,
   "metadata": {},
   "outputs": [],
   "source": [
    "feeding = {\n",
    "    'user_id': 0,\n",
    "    'gender_id': 1,\n",
    "    'age_id': 2,\n",
    "    'job_id': 3,\n",
    "    'movie_id': 4,\n",
    "    'category_id': 5,\n",
    "    'movie_title': 6,\n",
    "    'score': 7\n",
    "}"
   ]
  },
  {
   "cell_type": "markdown",
   "metadata": {},
   "source": [
    "Callback function `event_handler` will be called during training when a pre-defined event happens."
   ]
  },
  {
   "cell_type": "code",
   "execution_count": null,
   "metadata": {},
   "outputs": [],
   "source": [
    "step=0\n",
    "\n",
    "train_costs=[],[]\n",
    "test_costs=[],[]\n",
    "\n",
    "def event_handler(event):\n",
    "    global step\n",
    "    global train_costs\n",
    "    global test_costs\n",
    "    if isinstance(event, paddle.event.EndIteration):\n",
    "        need_plot = False\n",
    "        if step % 10 == 0:  # every 10 batches, record a train cost\n",
    "            train_costs[0].append(step)\n",
    "            train_costs[1].append(event.cost)\n",
    "\n",
    "        if step % 1000 == 0: # every 1000 batches, record a test cost\n",
    "            result = trainer.test(reader=paddle.batch(\n",
    "                  paddle.dataset.movielens.test(), batch_size=256))\n",
    "            test_costs[0].append(step)\n",
    "            test_costs[1].append(result.cost)\n",
    "\n",
    "        if step % 100 == 0: # every 100 batches, update cost plot\n",
    "            plt.plot(*train_costs)\n",
    "            plt.plot(*test_costs)\n",
    "            plt.legend(['Train Cost', 'Test Cost'], loc='upper left')\n",
    "            display.clear_output(wait=True)\n",
    "            display.display(plt.gcf())\n",
    "            plt.gcf().clear()\n",
    "        step += 1"
   ]
  },
  {
   "cell_type": "markdown",
   "metadata": {},
   "source": [
    "Finally, we can invoke `trainer.train` to start training:"
   ]
  },
  {
   "cell_type": "code",
   "execution_count": null,
   "metadata": {},
   "outputs": [],
   "source": [
    "trainer.train(\n",
    "    reader=reader,\n",
    "    event_handler=event_handler,\n",
    "    feeding=feeding,\n",
    "    num_passes=200)"
   ]
  },
  {
   "cell_type": "markdown",
   "metadata": {},
   "source": [
    "## Conclusion\n",
    "\n",
    "This tutorial goes over traditional approaches in recommender system and a deep learning based approach.  We also show that how to train and use the model with PaddlePaddle.  Deep learning has been well used in computer vision and NLP, we look forward to its new successes in recommender systems.\n",
    "\n",
    "## Reference\n",
    "\n",
    "1.[Peter Brusilovsky](https://en.wikipedia.org/wiki/Peter_Brusilovsky) (2007). *The Adaptive Web*. p. 325.<br/>\n",
    "2.Robin Burke , [Hybrid Web Recommender Systems](http://www.dcs.warwick.ac.uk/~acristea/courses/CS411/2010/Book%20-%20The%20Adaptive%20Web/HybridWebRecommenderSystems.pdf), pp. 377-408, The Adaptive Web, Peter Brusilovsky, Alfred Kobsa, Wolfgang Nejdl (Ed.), Lecture Notes in Computer Science, Springer-Verlag, Berlin, Germany, Lecture Notes in Computer Science, Vol. 4321, May 2007, 978-3-540-72078-2.<br/>\n",
    "3.P. Resnick, N. Iacovou, etc. “[GroupLens: An Open Architecture for Collaborative Filtering of Netnews](http://ccs.mit.edu/papers/CCSWP165.html)”, Proceedings of ACM Conference on Computer Supported Cooperative Work, CSCW 1994. pp.175-186.<br/>\n",
    "4.Sarwar, Badrul, et al. \"[Item-based collaborative filtering recommendation algorithms.](http://files.grouplens.org/papers/www10_sarwar.pdf)\" *Proceedings of the 10th International Conference on World Wide Web*. ACM, 2001.<br/>\n",
    "5.Kautz, Henry, Bart Selman, and Mehul Shah. \"[Referral Web: Combining Social networks and collaborative filtering.](http://www.cs.cornell.edu/selman/papers/pdf/97.cacm.refweb.pdf)\" Communications of the ACM 40.3 (1997): 63-65. APA<br/>\n",
    "6.Yuan, Jianbo, et al. [\"Solving Cold-Start Problem in Large-scale Recommendation Engines: A Deep Learning Approach.\"](https://arxiv.org/pdf/1611.05480v1.pdf) *arXiv preprint arXiv:1611.05480* (2016).<br/>\n",
    "7.Covington P, Adams J, Sargin E. [Deep neural networks for youtube recommendations](https://static.googleusercontent.com/media/research.google.com/zh-CN//pubs/archive/45530.pdf)[C]//Proceedings of the 10th ACM Conference on Recommender Systems. ACM, 2016: 191-198.<br/>\n",
    "\n",
    "<br/>\n",
    "This tutorial is contributed by <a xmlns:cc=\"http://creativecommons.org/ns#\" href=\"http://book.paddlepaddle.org\" property=\"cc:attributionName\" rel=\"cc:attributionURL\">PaddlePaddle</a>, and licensed under a <a rel=\"license\" href=\"http://creativecommons.org/licenses/by-nc-sa/4.0/\">Creative Commons Attribution-NonCommercial-ShareAlike 4.0 International License</a>."
   ]
  }
 ],
 "metadata": {},
 "nbformat": 4,
 "nbformat_minor": 2
}
