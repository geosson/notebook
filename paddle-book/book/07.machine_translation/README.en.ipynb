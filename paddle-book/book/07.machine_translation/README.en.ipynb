{
 "cells": [
  {
   "cell_type": "markdown",
   "metadata": {},
   "source": [
    "# Machine Translation\n",
    "\n",
    "The source codes is located at [book/machine_translation](https://github.com/PaddlePaddle/book/tree/develop/machine_translation). Please refer to the PaddlePaddle [installation tutorial](https://github.com/PaddlePaddle/Paddle/blob/develop/doc/getstarted/build_and_install/docker_install_en.rst) if you are a first time user.\n",
    "\n",
    "## Background\n",
    "\n",
    "Machine translation (MT) leverages computers to translate from one language to another. The language to be translated is referred to as the source language, while the language to be translated into is referred to as the target language. Thus, Machine translation is the process of translating from the source language to the target language. It is one of the most important research topics in the field of natural language processing.\n",
    "\n",
    "Early machine translation systems are mainly rule-based i.e. they rely on a language expert to specify the translation rules between the two languages. It is quite difficult to cover all the rules used in one languge. So it is quite a challenge for language experts to specify all possible rules in two or more different languages. Hence, a major challenge in conventional machine translation has been the difficulty in obtaining a complete rule set \\[[1](#References)\\]。\n",
    "\n",
    "To address the aforementioned problems, statistical machine translation techniques have been developed. These techniques learn the translation rules from a large corpus, instead of being designed by a language expert. While these techniques overcome the bottleneck of knowledge acquisition, there are still quite a lot of challenges, for example:\n",
    "\n",
    "1.human designed features cannot cover all possible linguistic variations;<br/>\n",
    "\n",
    "2.it is difficult to use global features;<br/>\n",
    "\n",
    "3.the techniques heavily rely on pre-processing techniques like word alignment, word segmentation and tokenization, rule-extraction and syntactic parsing etc. The error introduced in any of these steps could accumulate and impact translation quality.<br/>\n",
    "\n",
    "The recent development of deep learning provides new solutions to these challenges. The two main categories for deep learning based machine translation techniques are:\n",
    "\n",
    "1.techniques based on the statistical machine translation system but with some key components improved with neural networks, e.g., language model, reordering model (please refer to the left part of Figure 1);<br/>\n",
    "\n",
    "2.techniques mapping from source language to target language directly using a neural network, or end-to-end neural machine translation (NMT).<br/>\n",
    "\n",
    "<p align=\"center\" style=\"text-align:center\">\n",
    "<img src=\"image/nmt_en.png\" width=400><br/>\n",
    "Figure 1. Neural Network based Machine Translation\n",
    "</p>\n",
    "\n",
    "This tutorial will mainly introduce an NMT model and how to use PaddlePaddle to train it.\n",
    "\n",
    "## Illustrative Results\n",
    "\n",
    "Let's consider an example of Chinese-to-English translation. The model is given the following segmented sentence in Chinese"
   ]
  },
  {
   "cell_type": "code",
   "execution_count": null,
   "metadata": {
    "attributes": {
     "classes": [
      "text"
     ],
     "id": ""
    }
   },
   "outputs": [],
   "source": [
    "这些 是 希望 的 曙光 和 解脱 的 迹象 ."
   ]
  },
  {
   "cell_type": "markdown",
   "metadata": {},
   "source": [
    "After training and with a beam-search size of 3, the generated translations are as follows:"
   ]
  },
  {
   "cell_type": "code",
   "execution_count": null,
   "metadata": {
    "attributes": {
     "classes": [
      "text"
     ],
     "id": ""
    }
   },
   "outputs": [],
   "source": [
    "0 -5.36816   these are signs of hope and relief . <e>\n",
    "1 -6.23177   these are the light of hope and relief . <e>\n",
    "2 -7.7914  these are the light of hope and the relief of hope . <e>"
   ]
  },
  {
   "cell_type": "markdown",
   "metadata": {},
   "source": [
    "- The first column corresponds to the id of the generated sentence; the second column corresponds to the score of the generated sentence (in descending order), where a larger value indicates better quality; the last column corresponds to the generated sentence.\n",
    "- There are two special tokens: `<e>` denotes the end of a sentence while `<unk>` denotes unknown word, i.e., a word not in the training dictionary.\n",
    "\n",
    "## Overview of the Model\n",
    "\n",
    "This section will introduce Gated Recurrent Unit (GRU), Bi-directional Recurrent Neural Network, the Encoder-Decoder framework used in NMT, attention mechanism, as well as the beam search algorithm.\n",
    "\n",
    "### Gated Recurrent Unit (GRU)\n",
    "\n",
    "We already introduced RNN and LSTM in the [Sentiment Analysis](https://github.com/PaddlePaddle/book/blob/develop/understand_sentiment/README.md) chapter.\n",
    "Compared to a simple RNN, the LSTM added memory cell, input gate, forget gate and output gate. These gates combined with the memory cell greatly improve the ability to handle long-term dependencies.\n",
    "\n",
    "GRU\\[[2](#References)\\] proposed by Cho et al is a simplified LSTM and an extension of a simple RNN. It is shown in the figure below.\n",
    "A GRU unit has only two gates:\n",
    "- reset gate: when this gate is closed, the history information is discarded, i.e., the irrelevant historical information has no effect on the future output.\n",
    "- update gate: it combines the input gate and the forget gate and is used to control the impact of historical information on the hidden output. The historical information is passed over when the update gate is close to 1.\n",
    "\n",
    "<p align=\"center\" style=\"text-align:center\">\n",
    "<img src=\"image/gru_en.png\" width=700><br/>\n",
    "Figure 2. A GRU Gate\n",
    "</p>\n",
    "\n",
    "Generally speaking, sequences with short distance dependencies will have an active reset gate while sequences with long distance dependency will have an active update date.\n",
    "In addition, Chung et al.\\[[3](#References)\\] have empirically shown that although GRU has less parameters, it has similar performance to LSTM on several different tasks.\n",
    "\n",
    "### Bi-directional Recurrent Neural Network\n",
    "\n",
    "We already introduced an instance of bi-directional RNN in the [Semantic Role Labeling](https://github.com/PaddlePaddle/book/blob/develop/label_semantic_roles/README.md) chapter. Here we present another bi-directional RNN model with a different architecture proposed by Bengio et al. in \\[[2](#References),[4](#References)\\]. This model takes a sequence as input and outputs a fixed dimensional feature vector at each step, encoding the context information at the corresponding time step.\n",
    "\n",
    "Specifically, this bi-directional RNN processes the input sequence in the original and reverse order respectively, and then concatenates the output feature vectors at each time step as the final output. Thus the output node at each time step contains information from the past and future as context. The figure below shows an unrolled bi-directional RNN. This network contains a forward RNN and backward RNN with six weight matrices: weight matrices from input to forward hidden layer and backward hidden ($W_1, W_3$), weight matrices from hidden to itself ($W_2, W_5$), matrices from forward hidden and backward hidden to output layer ($W_4, W_6$). Note that there are no connections between forward hidden and backward hidden layers.\n",
    "\n",
    "<p align=\"center\" style=\"text-align:center\">\n",
    "<img src=\"image/bi_rnn_en.png\" width=450><br/>\n",
    "Figure 3. Temporally unrolled bi-directional RNN\n",
    "</p>\n",
    "\n",
    "### Encoder-Decoder Framework\n",
    "\n",
    "The Encoder-Decoder\\[[2](#References)\\] framework aims to solve the mapping of a sequence to another sequence, for sequences with arbitrary lengths. The source sequence is encoded into a vector via an encoder, which is then decoded to a target sequence via a decoder by maximizing the predictive probability. Both the encoder and the decoder are typically implemented via RNN.\n",
    "\n",
    "<p align=\"center\" style=\"text-align:center\">\n",
    "<img src=\"image/encoder_decoder_en.png\" width=700><br/>\n",
    "Figure 4. Encoder-Decoder Framework\n",
    "</p>\n",
    "\n",
    "#### Encoder\n",
    "\n",
    "There are three steps for encoding a sentence:\n",
    "\n",
    "1.One-hot vector representation of a word: Each word $x_i$ in the source sentence $x=\\left \\{ x_1,x_2,...,x_T \\right \\}$ is represented as a vector $w_i\\epsilon R^{\\left | V \\right |},i=1,2,...,T$   where $w_i$ has the same dimensionality as the size of the dictionary, i.e., $\\left | V \\right |$, and has an element of one at the location corresponding to the location of the word in the dictionary and zero elsewhere.<br/>\n",
    "\n",
    "2.Word embedding as a representation in the low-dimensional semantic space: There are two problems with one-hot vector representation<br/>\n",
    "\n",
    "  * the dimensionality of the vector is typically large, leading to the curse of dimensionality;\n",
    "\n",
    "  * it is hard to capture the relationships between words, i.e., semantic similarities. Therefore, it is useful to project the one-hot vector into a low-dimensional semantic space as a dense vector with fixed dimensions, i.e., $s_i=Cw_i$ for the $i$-th word, with $C\\epsilon R^{K\\times \\left | V \\right |}$ as the projection matrix and $K$ is the dimensionality of the word embedding vector.\n",
    "\n",
    "3.Encoding of the source sequence via RNN: This can be described mathematically as:<br/>\n",
    "\n",
    "    $$h_i=\\varnothing _\\theta \\left ( h_{i-1}, s_i \\right )$$\n",
    "\n",
    "    where\n",
    "    $h_0$ is a zero vector,\n",
    "    $\\varnothing _\\theta$ is a non-linear activation function, and\n",
    "    $\\mathbf{h}=\\left \\{ h_1,..., h_T \\right \\}$\n",
    "    is the sequential encoding of the first $T$ words from the source sequence. The vector representation of the whole sentence can be represented as the encoding vector at the last time step $T$ from $\\mathbf{h}$, or by temporal pooling over $\\mathbf{h}$.\n",
    "\n",
    "Bi-directional RNN can also be used in step (3) for more a complicated sentence encoding. This can be implemented using a bi-directional GRU. Forward GRU encodes the source sequence in its original order $(x_1,x_2,...,x_T)$, and generates a sequence of hidden states $(\\overrightarrow{h_1},\\overrightarrow{h_2},...,\\overrightarrow{h_T})$. The backward GRU encodes the source sequence in reverse order, i.e., $(x_T,x_T-1,...,x_1)$ and generates $(\\overleftarrow{h_1},\\overleftarrow{h_2},...,\\overleftarrow{h_T})$. Then for each word $x_i$, its complete hidden state is the concatenation of the corresponding hidden states from the two GRUs, i.e., $h_i=\\left [ \\overrightarrow{h_i^T},\\overleftarrow{h_i^T} \\right ]^{T}$.\n",
    "\n",
    "<p align=\"center\" style=\"text-align:center\">\n",
    "<img src=\"image/encoder_attention_en.png\" width=500><br/>\n",
    "Figure 5. Encoder using bi-directional GRU\n",
    "</p>\n",
    "\n",
    "#### Decoder\n",
    "\n",
    "The goal of the decoder is to maximize the probability of the next correct word in the target language. The main idea is as follows:\n",
    "\n",
    "1.At each time step $i$, given the encoding vector (or context vector) $c$ of the source sentence, the $i$-th word $u_i$ from the ground-truth target language and the RNN hidden state $z_i$, the next hidden state $z_{i+1}$ is computed as:<br/>\n",
    "\n",
    "   $$z_{i+1}=\\phi _{\\theta '}\\left ( c,u_i,z_i \\right )$$\n",
    "\n",
    "   where $\\phi _{\\theta '}$ is a non-linear activation function and $c=q\\mathbf{h}$ is the context vector of the source sentence. Without using [attention](#Attention Mechanism), if the output of the [encoder](#Encoder) is the encoding vector at the last time step of the source sentence, then $c$ can be defined as $c=h_T$. $u_i$ denotes the $i$-th word from the target language sentence and $u_0$ denotes the beginning of the target language sentence (i.e., `<s>`), indicating the beginning of decoding. $z_i$ is the RNN hidden state at time step $i$ and $z_0$ is an all zero vector.\n",
    "\n",
    "2.Calculate the probability $p_{i+1}$ for the $i+1$-th word in the target language sequence by normalizing $z_{i+1}$ using `softmax` as follows<br/>\n",
    "\n",
    "   $$p\\left ( u_{i+1}|u_{&lt;i+1},\\mathbf{x} \\right )=softmax(W_sz_{i+1}+b_z)$$\n",
    "\n",
    "   where $W_sz_{i+1}+b_z$ scores each possible words and is then normalized via softmax to produce the probability $p_{i+1}$ for the $i+1$-th word.\n",
    "\n",
    "3.Compute the cost accoding to $p_{i+1}$ and $u_{i+1}$.<br/>\n",
    "4.Repeat Steps 1-3, until all the words in the target language sentence have been processed.<br/>\n",
    "\n",
    "The generation process of machine translation is to translate the source sentence into a sentence in the target language according to a pre-trained model. There are some differences between the decoding step in generation and training. Please refer to [Beam Search Algorithm](#Beam Search Algorithm) for details.\n",
    "\n",
    "### Attention Mechanism\n",
    "\n",
    "There are a few problems with the fixed dimensional vector representation from the encoding stage:\n",
    "  * It is very challenging to encode both the semantic and syntactic information a sentence with a fixed dimensional vector regardless of the length of the sentence.\n",
    "  * Intuitively, when translating a sentence, we typically pay more attention to the parts in the source sentence more relevant to the current translation. Moreover, the focus changes along the process of the translation. With a fixed dimensional vector, all the information from the source sentence is treated equally in terms of attention. This is not reasonable. Therefore, Bahdanau et al. \\[[4](#References)\\] introduced attention mechanism, which can decode based on different fragments of the context sequence in order to address the difficulty of feature learning for long sentences. Decoder with attention will be explained in the following.\n",
    "\n",
    "Different from the simple decoder, $z_i$ is computed as:\n",
    "\n",
    "$$z_{i+1}=\\phi _{\\theta '}\\left ( c_i,u_i,z_i \\right )$$\n",
    "\n",
    "It is observed that for each word $u_i$ in the target language sentence, there is a corresponding context vector $c_i$ as the encoding of the source sentence, which is computed as:\n",
    "\n",
    "$$c_i=\\sum _{j=1}^{T}a_{ij}h_j, a_i=\\left[ a_{i1},a_{i2},...,a_{iT}\\right ]$$\n",
    "\n",
    "It is noted that the attention mechanism is achieved by a weighted average over the RNN hidden states $h_j$. The weight $a_{ij}$ denotes the strength of attention of the $i$-th word in the target language sentence to the $j$-th word in the source sentence and is calculated as\n",
    "\n",
    "\\begin{align}\n",
    "a_{ij}&=\\frac{exp(e_{ij})}{\\sum_{k=1}^{T}exp(e_{ik})}\\\\\\\\\n",
    "e_{ij}&=align(z_i,h_j)\\\\\\\\\n",
    "\\end{align}\n",
    "\n",
    "where $align$ is an alignment model that measures the fitness between the $i$-th word in the target language sentence and the $j$-th word in the source sentence. More concretely, the fitness is computed with the $i$-th hidden state $z_i$ of the decoder RNN and the $j$-th context vector $h_j$ of the source sentence. Hard alignment is used in the conventional alignment model, which means each word in the target language explicitly corresponds to one or more words from the target language sentence. In an attention model, soft alignment is used, where any word in source sentence is related to any word in the target language sentence, where the strength of the relation is a real number computed via the model, thus can be incorporated into the NMT framework and can be trained via back-propagation.\n",
    "\n",
    "<p align=\"center\" style=\"text-align:center\">\n",
    "<img src=\"image/decoder_attention_en.png\" width=500><br/>\n",
    "Figure 6. Decoder with Attention Mechanism\n",
    "</p>\n",
    "\n",
    "### Beam Search Algorithm\n",
    "\n",
    "[Beam Search](http://en.wikipedia.org/wiki/Beam_search) is a heuristic search algorithm that explores a graph by expanding the most promising node in a limited set. It is typically used when the solution space is huge  (e.g., for machine translation, speech recognition), and there is not enough memory for all the possible solutions. For example, if we want to translate “`<s>你好<e>`” into English, even if there are only three words in the dictionary (`<s>`, `<e>`, `hello`), it is still possible to generate an infinite number of sentences, where the word `hello` can appear different number of times. Beam search could be used to find a good translation among them.\n",
    "\n",
    "Beam search builds a search tree using breadth first search and sorts the nodes according to a heuristic cost (sum of the log probability of the generated words) at each level of the tree. Only a fixed number of nodes according to the pre-specified beam size (or beam width) are considered. Thus, only nodes with highest scores are expanded in the next level. This reduces the space and time requirements significantly. However, a globally optimal solution is not guaranteed.\n",
    "\n",
    "The goal is to maximize the probability of the generated sequence when using beam search in decoding, The procedure is as follows:\n",
    "\n",
    "1.At each time step $i$, compute the hidden state $z_{i+1}$ of the next time step according to the context vector $c$ of the source sentence, the $i$-th word $u_i$ generated for the target language sentence and the RNN hidden state $z_i$.<br/>\n",
    "2.Normalize $z_{i+1}$ using `softmax` to get the probability $p_{i+1}$ for the $i+1$-th word for the target language sentence.<br/>\n",
    "3.Sample the word $u_{i+1}$ according to $p_{i+1}$.<br/>\n",
    "4.Repeat Steps 1-3, until end-of-sentence token `<e>` is generated or the maximum length of the sentence is reached.<br/>\n",
    "\n",
    "Note: $z_{i+1}$ and $p_{i+1}$ are computed the same way as in [Decoder](#Decoder). In generation mode, each step is greedy in so there is no guarantee of a global optimum.\n",
    "\n",
    "## Data Preparation\n",
    "\n",
    "This tutorial uses a dataset from [WMT-14](http://www-lium.univ-lemans.fr/~schwenk/cslm_joint_paper/), where [bitexts (after selection)](http://www-lium.univ-lemans.fr/~schwenk/cslm_joint_paper/data/bitexts.tgz) is used as the training set, and [dev+test data](http://www-lium.univ-lemans.fr/~schwenk/cslm_joint_paper/data/dev+test.tgz) is used as test and generation set.\n",
    "\n",
    "### Data Preprocessing\n",
    "\n",
    "There are two steps for pre-processing:\n",
    "- Merge the source and target parallel corpus files into one file\n",
    "- Merge `XXX.src` and `XXX.trg` file pair as `XXX`\n",
    "- The $i$-th row in `XXX` is the concatenation of the $i$-th row from `XXX.src` with the $i$-th row from `XXX.trg`, separated with '\\t'.\n",
    "\n",
    "- Create source dictionary and target dictionary, each containing **DICTSIZE** number of words, including the most frequent (DICTSIZE - 3) fo word from the corpus and 3 special token `<s>` (begin of sequence), `<e>` (end of sequence)  and `<unk>` (unknown words that are not in the vocabulary).\n",
    "\n",
    "### A Subset of Dataset\n",
    "\n",
    "Because the full dataset is very big, to reduce the time for downloading the full dataset. PadddlePaddle package `paddle.dataset.wmt14` provides a preprocessed `subset of dataset`(http://paddlepaddle.bj.bcebos.com/demo/wmt_shrinked_data/wmt14.tgz).\n",
    "\n",
    "This subset has 193319 instances of training data and 6003 instances of test data. Dictionary size is 30000. Because of the limitation of size of the subset, the effectiveness of trained model from this subset is not guaranteed.\n",
    "\n",
    "## Training Instructions\n",
    "\n",
    "### Initialize PaddlePaddle"
   ]
  },
  {
   "cell_type": "code",
   "execution_count": null,
   "metadata": {},
   "outputs": [],
   "source": [
    "import sys\n",
    "import paddle.v2 as paddle\n",
    "\n",
    "# train with a single CPU\n",
    "paddle.init(use_gpu=False, trainer_count=1)"
   ]
  },
  {
   "cell_type": "markdown",
   "metadata": {},
   "source": [
    "### Define DataSet\n",
    "\n",
    "We will define dictionary size, and create [**data reader**](https://github.com/PaddlePaddle/Paddle/tree/develop/doc/design/reader#python-data-reader-design-doc) for WMT-14 dataset."
   ]
  },
  {
   "cell_type": "code",
   "execution_count": null,
   "metadata": {},
   "outputs": [],
   "source": [
    "# source and target dict dim.\n",
    "dict_size = 30000\n",
    "\n",
    "feeding = {\n",
    "    'source_language_word': 0,\n",
    "    'target_language_word': 1,\n",
    "    'target_language_next_word': 2\n",
    "}\n",
    "wmt14_reader = paddle.batch(\n",
    "    paddle.reader.shuffle(\n",
    "        paddle.dataset.wmt14.train(dict_size=dict_size), buf_size=8192),\n",
    "    batch_size=5)"
   ]
  },
  {
   "cell_type": "markdown",
   "metadata": {},
   "source": [
    "### Model Configuration\n",
    "\n",
    "1.Define some global variables<br/>"
   ]
  },
  {
   "cell_type": "code",
   "execution_count": null,
   "metadata": {},
   "outputs": [],
   "source": [
    "   source_dict_dim = dict_size # source language dictionary size\n",
    "   target_dict_dim = dict_size # destination language dictionary size\n",
    "   word_vector_dim = 512 # word embedding dimension\n",
    "   encoder_size = 512 # hidden layer size of GRU in encoder\n",
    "   decoder_size = 512 # hidden layer size of GRU in decoder"
   ]
  },
  {
   "cell_type": "markdown",
   "metadata": {},
   "source": [
    "1.Implement Encoder as follows:<br/>\n",
    "   1. Input is a sequence of words represented by an integer word index sequence. So we define data layer of data type `integer_value_sequence`. The value range of each element in the sequence is `[0, source_dict_dim)`"
   ]
  },
  {
   "cell_type": "code",
   "execution_count": null,
   "metadata": {},
   "outputs": [],
   "source": [
    "    src_word_id = paddle.layer.data(\n",
    "        name='source_language_word',\n",
    "        type=paddle.data_type.integer_value_sequence(source_dict_dim))"
   ]
  },
  {
   "cell_type": "markdown",
   "metadata": {},
   "source": [
    "1.Map the one-hot vector (represented by word index) into a word vector $\\mathbf{s}$ in a low-dimensional semantic space<br/>"
   ]
  },
  {
   "cell_type": "code",
   "execution_count": null,
   "metadata": {},
   "outputs": [],
   "source": [
    "    src_embedding = paddle.layer.embedding(\n",
    "        input=src_word_id,\n",
    "        size=word_vector_dim,\n",
    "        param_attr=paddle.attr.ParamAttr(name='_source_language_embedding'))"
   ]
  },
  {
   "cell_type": "markdown",
   "metadata": {},
   "source": [
    "1.Use bi-direcitonal GRU to encode the source language sequence, and concatenate the encoding outputs from the two GRUs to get $\\mathbf{h}$<br/>"
   ]
  },
  {
   "cell_type": "code",
   "execution_count": null,
   "metadata": {},
   "outputs": [],
   "source": [
    "    src_forward = paddle.networks.simple_gru(\n",
    "        input=src_embedding, size=encoder_size)\n",
    "    src_backward = paddle.networks.simple_gru(\n",
    "        input=src_embedding, size=encoder_size, reverse=True)\n",
    "    encoded_vector = paddle.layer.concat(input=[src_forward, src_backward])"
   ]
  },
  {
   "cell_type": "markdown",
   "metadata": {},
   "source": [
    "1.Implement Attention-based Decoder as follows:<br/>\n",
    "\n",
    "   1. Get a projection of the encoding (c.f. 2.3) of the source language sequence by passing it into a feed forward neural network"
   ]
  },
  {
   "cell_type": "code",
   "execution_count": null,
   "metadata": {},
   "outputs": [],
   "source": [
    "    with paddle.layer.mixed(size=decoder_size) as encoded_proj:\n",
    "        encoded_proj += paddle.layer.full_matrix_projection(\n",
    "            input=encoded_vector)"
   ]
  },
  {
   "cell_type": "markdown",
   "metadata": {},
   "source": [
    "1.Use a non-linear transformation of the last hidden state of the backward GRU on the source language sentence as the initial state of the decoder RNN $c_0=h_T$<br/>"
   ]
  },
  {
   "cell_type": "code",
   "execution_count": null,
   "metadata": {},
   "outputs": [],
   "source": [
    "    backward_first = paddle.layer.first_seq(input=src_backward)\n",
    "    with paddle.layer.mixed(\n",
    "            size=decoder_size, act=paddle.activation.Tanh()) as decoder_boot:\n",
    "        decoder_boot += paddle.layer.full_matrix_projection(\n",
    "            input=backward_first)"
   ]
  },
  {
   "cell_type": "markdown",
   "metadata": {},
   "source": [
    "1.Define the computation in each time step for the decoder RNN, i.e., according to the current context vector $c_i$, hidden state for the decoder $z_i$ and the $i$-th word $u_i$ in the target language to predict the probability $p_{i+1}$ for the $i+1$-th word.<br/>\n",
    "\n",
    "- decoder_mem records the hidden state $z_i$ from the previous time step, with an initial state as decoder_boot.\n",
    "- context is computed via `simple_attention` as $c_i=\\sum {j=1}^{T}a_{ij}h_j$, where enc_vec is the projection of $h_j$ and enc_proj is the projection of $h_j$ (c.f. 3.1). $a_{ij}$ is calculated within `simple_attention`.\n",
    "- decoder_inputs fuse $c_i$ with the representation of the current_word (i.e., $u_i$).\n",
    "- gru_step uses `gru_step_layer` function to compute $z_{i+1}=\\phi _{\\theta '}\\left ( c_i,u_i,z_i \\right )$.\n",
    "- Softmax normalization is used in the end to computed the probability of words, i.e., $p\\left ( u_i|u_{&lt;i},\\mathbf{x} \\right )=softmax(W_sz_i+b_z)$. The output is returned."
   ]
  },
  {
   "cell_type": "code",
   "execution_count": null,
   "metadata": {},
   "outputs": [],
   "source": [
    "    def gru_decoder_with_attention(enc_vec, enc_proj, current_word):\n",
    "\n",
    "        decoder_mem = paddle.layer.memory(\n",
    "            name='gru_decoder', size=decoder_size, boot_layer=decoder_boot)\n",
    "\n",
    "        context = paddle.networks.simple_attention(\n",
    "            encoded_sequence=enc_vec,\n",
    "            encoded_proj=enc_proj,\n",
    "            decoder_state=decoder_mem)\n",
    "\n",
    "        with paddle.layer.mixed(size=decoder_size * 3) as decoder_inputs:\n",
    "            decoder_inputs += paddle.layer.full_matrix_projection(input=context)\n",
    "            decoder_inputs += paddle.layer.full_matrix_projection(\n",
    "                input=current_word)\n",
    "\n",
    "        gru_step = paddle.layer.gru_step(\n",
    "            name='gru_decoder',\n",
    "            input=decoder_inputs,\n",
    "            output_mem=decoder_mem,\n",
    "            size=decoder_size)\n",
    "\n",
    "        with paddle.layer.mixed(\n",
    "                size=target_dict_dim,\n",
    "                bias_attr=True,\n",
    "                act=paddle.activation.Softmax()) as out:\n",
    "            out += paddle.layer.full_matrix_projection(input=gru_step)\n",
    "        return out"
   ]
  },
  {
   "cell_type": "markdown",
   "metadata": {},
   "source": [
    "1.Define the name for the decoder and the first two input for `gru_decoder_with_attention`. Note that `StaticInput` is used for the two inputs. Please refer to [StaticInput Document](https://github.com/PaddlePaddle/Paddle/blob/develop/doc/howto/deep_model/rnn/recurrent_group_cn.md#输入) for more details.<br/>"
   ]
  },
  {
   "cell_type": "code",
   "execution_count": null,
   "metadata": {},
   "outputs": [],
   "source": [
    "    decoder_group_name = \"decoder_group\"\n",
    "    group_input1 = paddle.layer.StaticInputV2(input=encoded_vector, is_seq=True)\n",
    "    group_input2 = paddle.layer.StaticInputV2(input=encoded_proj, is_seq=True)\n",
    "    group_inputs = [group_input1, group_input2]"
   ]
  },
  {
   "cell_type": "markdown",
   "metadata": {},
   "source": [
    "1.Training mode:<br/>\n",
    "\n",
    "- word embedding from the target language trg_embedding is passed to `gru_decoder_with_attention` as current_word.\n",
    "- `recurrent_group` calls `gru_decoder_with_attention` in a recurrent way\n",
    "- the sequence of next words from the target language is used as label (lbl)\n",
    "- multi-class cross-entropy (`classification_cost`) is used to calculate the cost"
   ]
  },
  {
   "cell_type": "code",
   "execution_count": null,
   "metadata": {},
   "outputs": [],
   "source": [
    "    trg_embedding = paddle.layer.embedding(\n",
    "        input=paddle.layer.data(\n",
    "            name='target_language_word',\n",
    "            type=paddle.data_type.integer_value_sequence(target_dict_dim)),\n",
    "        size=word_vector_dim,\n",
    "        param_attr=paddle.attr.ParamAttr(name='_target_language_embedding'))\n",
    "    group_inputs.append(trg_embedding)\n",
    "\n",
    "    # For decoder equipped with attention mechanism, in training,\n",
    "    # target embeding (the groudtruth) is the data input,\n",
    "    # while encoded source sequence is accessed to as an unbounded memory.\n",
    "    # Here, the StaticInput defines a read-only memory\n",
    "    # for the recurrent_group.\n",
    "    decoder = paddle.layer.recurrent_group(\n",
    "        name=decoder_group_name,\n",
    "        step=gru_decoder_with_attention,\n",
    "        input=group_inputs)\n",
    "\n",
    "    lbl = paddle.layer.data(\n",
    "        name='target_language_next_word',\n",
    "        type=paddle.data_type.integer_value_sequence(target_dict_dim))\n",
    "    cost = paddle.layer.classification_cost(input=decoder, label=lbl)"
   ]
  },
  {
   "cell_type": "markdown",
   "metadata": {},
   "source": [
    "Note: Our configuration is based on Bahdanau et al. \\[[4](#Reference)\\] but with a few simplifications. Please refer to [issue #1133](https://github.com/PaddlePaddle/Paddle/issues/1133) for more details.\n",
    "\n",
    "### Create Parameters\n",
    "\n",
    "Create every parameter that `cost` layer needs."
   ]
  },
  {
   "cell_type": "code",
   "execution_count": null,
   "metadata": {},
   "outputs": [],
   "source": [
    "parameters = paddle.parameters.create(cost)"
   ]
  },
  {
   "cell_type": "markdown",
   "metadata": {},
   "source": [
    "We can get parameter names. If the parameter name is not specified during model configuration, it will be generated."
   ]
  },
  {
   "cell_type": "code",
   "execution_count": null,
   "metadata": {},
   "outputs": [],
   "source": [
    "for param in parameters.keys():\n",
    "    print param"
   ]
  },
  {
   "cell_type": "markdown",
   "metadata": {},
   "source": [
    "## Model Training\n",
    "\n",
    "1.Create trainer<br/>\n",
    "\n",
    "    We need to tell trainer what to optimize, and how to optimize. Here trainer will optimize `cost` layer using stochastic gradient descent (SDG)."
   ]
  },
  {
   "cell_type": "code",
   "execution_count": null,
   "metadata": {},
   "outputs": [],
   "source": [
    "    optimizer = paddle.optimizer.Adam(\n",
    "        learning_rate=5e-5,\n",
    "        regularization=paddle.optimizer.L2Regularization(rate=8e-4))\n",
    "    trainer = paddle.trainer.SGD(cost=cost,\n",
    "                                 parameters=parameters,\n",
    "                                 update_equation=optimizer)"
   ]
  },
  {
   "cell_type": "markdown",
   "metadata": {},
   "source": [
    "1.Define event handler<br/>\n",
    "\n",
    "    The event handler is a callback function invoked by trainer when an event happens. Here we will print log in event handler."
   ]
  },
  {
   "cell_type": "code",
   "execution_count": null,
   "metadata": {},
   "outputs": [],
   "source": [
    "    def event_handler(event):\n",
    "        if isinstance(event, paddle.event.EndIteration):\n",
    "            if event.batch_id % 10 == 0:\n",
    "                print \"\\nPass %d, Batch %d, Cost %f, %s\" % (\n",
    "                    event.pass_id, event.batch_id, event.cost, event.metrics)"
   ]
  },
  {
   "cell_type": "markdown",
   "metadata": {},
   "source": [
    "1.Start training<br/>"
   ]
  },
  {
   "cell_type": "code",
   "execution_count": null,
   "metadata": {},
   "outputs": [],
   "source": [
    "    trainer.train(\n",
    "        reader=wmt14_reader,\n",
    "        event_handler=event_handler,\n",
    "        num_passes=2,\n",
    "        feeding=feeding)"
   ]
  },
  {
   "cell_type": "code",
   "execution_count": null,
   "metadata": {
    "attributes": {
     "classes": [
      "text"
     ],
     "id": ""
    }
   },
   "outputs": [],
   "source": [
    "    Pass 0, Batch 0, Cost 247.408008, {'classification_error_evaluator': 1.0}\n",
    "    Pass 0, Batch 10, Cost 212.058789, {'classification_error_evaluator': 0.8737863898277283}\n",
    "    ..."
   ]
  },
  {
   "cell_type": "markdown",
   "metadata": {},
   "source": [
    "The model training is successful when the `classification_error_evaluator` is lower than 0.35.\n",
    "\n",
    "## Model Usage\n",
    "\n",
    "### Download Pre-trained Model\n",
    "\n",
    "As the training of an NMT model is very time consuming, we provide a pre-trained model (pass-00012, ~205M). The model is trained with a cluster of 50 physical nodes (each node has two 6-core CPU). We trained 16 passes (taking about 5 days) with each pass taking about 7 hours. The provided model (pass-00012) has the highest [BLEU Score](#BLEU Score) of 26.92. Run the following command to download the model:"
   ]
  },
  {
   "cell_type": "code",
   "execution_count": null,
   "metadata": {},
   "outputs": [],
   "source": [
    "%%bash\n",
    "cd pretrained\n",
    "./wmt14_model.sh"
   ]
  },
  {
   "cell_type": "markdown",
   "metadata": {},
   "source": [
    "### BLEU Evaluation\n",
    "\n",
    "BLEU (Bilingual Evaluation understudy) is a metric widely used for automatic machine translation proposed by IBM Watson Research Center in 2002\\[[5](#References)\\]. The closer the translation produced by a machine is to the translation produced by a human expert, the better the performance of the translation system.\n",
    "To measure the closeness between machine translation and human translation, sentence precision is used. It compares the number of matched n-grams. More matches will lead to higher BLEU scores.\n",
    "\n",
    "[Moses](http://www.statmt.org/moses/) is an open-source machine translation system, we used [multi-bleu.perl](https://github.com/moses-smt/mosesdecoder/blob/master/scripts/generic/multi-bleu.perl) for BLEU evaluation. Run the following command for downloading:"
   ]
  },
  {
   "cell_type": "code",
   "execution_count": null,
   "metadata": {},
   "outputs": [],
   "source": [
    "%%bash\n",
    "./moses_bleu.sh"
   ]
  },
  {
   "cell_type": "markdown",
   "metadata": {},
   "source": [
    "BLEU evaluation can be performed using the `eval_bleu` script as follows, where FILE is the name of the file to be evaluated, BEAMSIZE is the beam size value, and `data/wmt14/gen/ntst14.trg` is used as the standard translation in default."
   ]
  },
  {
   "cell_type": "code",
   "execution_count": null,
   "metadata": {},
   "outputs": [],
   "source": [
    "%%bash\n",
    "./eval_bleu.sh FILE BEAMSIZE"
   ]
  },
  {
   "cell_type": "markdown",
   "metadata": {},
   "source": [
    "Specificaly, the script is run as follows:"
   ]
  },
  {
   "cell_type": "code",
   "execution_count": null,
   "metadata": {},
   "outputs": [],
   "source": [
    "%%bash\n",
    "./eval_bleu.sh gen_result 3"
   ]
  },
  {
   "cell_type": "markdown",
   "metadata": {},
   "source": [
    "You will see the following message as output:"
   ]
  },
  {
   "cell_type": "code",
   "execution_count": null,
   "metadata": {
    "attributes": {
     "classes": [
      "text"
     ],
     "id": ""
    }
   },
   "outputs": [],
   "source": [
    "BLEU = 26.92"
   ]
  },
  {
   "cell_type": "markdown",
   "metadata": {},
   "source": [
    "## Summary\n",
    "\n",
    "End-to-end neural machine translation is a recently developed way to perform machine translations. In this chapter, we introduced the typical \"Encoder-Decoder\" framework and \"attention\" mechanism. Since NMT is a typical Sequence-to-Sequence (Seq2Seq) learning problem, tasks such as query rewriting, abstraction generation, and single-turn dialogues can all be solved with the model presented in this chapter.\n",
    "\n",
    "## References\n",
    "\n",
    "1.Koehn P. [Statistical machine translation](https://books.google.com.hk/books?id=4v_Cx1wIMLkC&printsec=frontcover&hl=zh-CN&source=gbs_ge_summary_r&cad=0#v=onepage&q&f=false)[M]. Cambridge University Press, 2009.<br/>\n",
    "2.Cho K, Van Merriënboer B, Gulcehre C, et al. [Learning phrase representations using RNN encoder-decoder for statistical machine translation](http://www.aclweb.org/anthology/D/D14/D14-1179.pdf)[C]//Proceedings of the 2014 Conference on Empirical Methods in Natural Language Processing (EMNLP), 2014: 1724-1734.<br/>\n",
    "3.Chung J, Gulcehre C, Cho K H, et al. [Empirical evaluation of gated recurrent neural networks on sequence modeling](https://arxiv.org/abs/1412.3555)[J]. arXiv preprint arXiv:1412.3555, 2014.<br/>\n",
    "4. Bahdanau D, Cho K, Bengio Y. [Neural machine translation by jointly learning to align and translate](https://arxiv.org/abs/1409.0473)[C]//Proceedings of ICLR 2015, 2015.<br/>\n",
    "5.Papineni K, Roukos S, Ward T, et al. [BLEU: a method for automatic evaluation of machine translation](http://dl.acm.org/citation.cfm?id=1073135)[C]//Proceedings of the 40th annual meeting on association for computational linguistics. Association for Computational Linguistics, 2002: 311-318.<br/>\n",
    "\n",
    "<br/>\n",
    "This tutorial is contributed by <a xmlns:cc=\"http://creativecommons.org/ns#\" href=\"http://book.paddlepaddle.org\" property=\"cc:attributionName\" rel=\"cc:attributionURL\">PaddlePaddle</a>, and licensed under a <a rel=\"license\" href=\"http://creativecommons.org/licenses/by-nc-sa/4.0/\">Creative Commons Attribution-NonCommercial-ShareAlike 4.0 International License</a>."
   ]
  }
 ],
 "metadata": {},
 "nbformat": 4,
 "nbformat_minor": 2
}
